{
  "nbformat": 4,
  "nbformat_minor": 0,
  "metadata": {
    "colab": {
      "provenance": [],
      "authorship_tag": "ABX9TyPCA3U45p5bGCvH1ugRquI3",
      "include_colab_link": true
    },
    "kernelspec": {
      "name": "python3",
      "display_name": "Python 3"
    },
    "language_info": {
      "name": "python"
    }
  },
  "cells": [
    {
      "cell_type": "markdown",
      "metadata": {
        "id": "view-in-github",
        "colab_type": "text"
      },
      "source": [
        "<a href=\"https://colab.research.google.com/github/atharvthakur17/machine-learning/blob/main/complex_boundary.ipynb\" target=\"_parent\"><img src=\"https://colab.research.google.com/assets/colab-badge.svg\" alt=\"Open In Colab\"/></a>"
      ]
    },
    {
      "cell_type": "code",
      "execution_count": 115,
      "metadata": {
        "id": "N3V1NktmGaYj"
      },
      "outputs": [],
      "source": [
        "#comparing score by addding new feature \n",
        "from sklearn.datasets import fetch_california_housing\n",
        "housing = fetch_california_housing()\n",
        "\n"
      ]
    },
    {
      "cell_type": "code",
      "source": [
        "x=housing.data\n",
        "y=housing.target\n",
        "import pandas as pd\n",
        "x.shape"
      ],
      "metadata": {
        "id": "j64ufXhSIYxP",
        "colab": {
          "base_uri": "https://localhost:8080/"
        },
        "outputId": "0f148784-721e-46e1-914f-6c6099ede71f"
      },
      "execution_count": 116,
      "outputs": [
        {
          "output_type": "execute_result",
          "data": {
            "text/plain": [
              "(20640, 8)"
            ]
          },
          "metadata": {},
          "execution_count": 116
        }
      ]
    },
    {
      "cell_type": "code",
      "source": [
        "df=pd.DataFrame(x)\n",
        "housing.feature_names"
      ],
      "metadata": {
        "colab": {
          "base_uri": "https://localhost:8080/"
        },
        "id": "7Wc_BXNhGo4N",
        "outputId": "3ae2ff68-b0d6-451e-ecfe-865b90de9d62"
      },
      "execution_count": 117,
      "outputs": [
        {
          "output_type": "execute_result",
          "data": {
            "text/plain": [
              "['MedInc',\n",
              " 'HouseAge',\n",
              " 'AveRooms',\n",
              " 'AveBedrms',\n",
              " 'Population',\n",
              " 'AveOccup',\n",
              " 'Latitude',\n",
              " 'Longitude']"
            ]
          },
          "metadata": {},
          "execution_count": 117
        }
      ]
    },
    {
      "cell_type": "code",
      "source": [
        "df.columns=housing.feature_names\n",
        "df[\"popul**2\"]=df.Population**3\n",
        "df.describe()\n",
        "x2=df.values  \n",
        "x2.shape"
      ],
      "metadata": {
        "colab": {
          "base_uri": "https://localhost:8080/"
        },
        "id": "_gvTCtyBJRB2",
        "outputId": "c80785c9-1021-4036-861d-76deb07bf951"
      },
      "execution_count": 118,
      "outputs": [
        {
          "output_type": "execute_result",
          "data": {
            "text/plain": [
              "(20640, 9)"
            ]
          },
          "metadata": {},
          "execution_count": 118
        }
      ]
    },
    {
      "cell_type": "code",
      "source": [
        "from sklearn import model_selection\n",
        "xtrain,xtest,ytrain,ytest=model_selection.train_test_split(x,y,random_state=0)\n",
        "x2train,x2test,y2train,y2test=model_selection.train_test_split(x2,y,random_state=0)"
      ],
      "metadata": {
        "id": "cIaWSCeTKGjK"
      },
      "execution_count": 119,
      "outputs": []
    },
    {
      "cell_type": "code",
      "source": [
        "from sklearn.linear_model import LinearRegression\n",
        "alg1=LinearRegression()\n",
        "alg1.fit(xtrain,ytrain)\n",
        "ypred=alg1.predict(xtest)\n",
        "testscore=alg1.score(xtest,ytest)\n",
        "trainscore=alg1.score(xtrain,ytrain)\n",
        "print(\"testscore , trainscore \",testscore,trainscore)\n",
        "\n",
        "\n",
        "alg2=LinearRegression()\n",
        "alg2.fit(x2train,y2train)\n",
        "y2pred=alg2.predict(x2test)\n",
        "testscore1=alg2.score(x2test,y2test)\n",
        "trainscore1=alg2.score(x2train,y2train)\n",
        "print(\"testscore2 , trainscore2 \",testscore1,trainscore1)\n"
      ],
      "metadata": {
        "colab": {
          "base_uri": "https://localhost:8080/"
        },
        "id": "VrWxnsKbJ024",
        "outputId": "1be2ed32-472b-4369-d9c9-d21bbbea96e1"
      },
      "execution_count": 120,
      "outputs": [
        {
          "output_type": "stream",
          "name": "stdout",
          "text": [
            "testscore , trainscore  0.5911695436410479 0.6109633715458154\n",
            "testscore2 , trainscore2  0.5911532054634471 0.6109673936873805\n"
          ]
        }
      ]
    }
  ]
}