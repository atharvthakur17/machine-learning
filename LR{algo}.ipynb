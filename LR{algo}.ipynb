{
  "nbformat": 4,
  "nbformat_minor": 0,
  "metadata": {
    "colab": {
      "provenance": [],
      "authorship_tag": "ABX9TyOVVlAmA0DUav4xaE4X1b2+",
      "include_colab_link": true
    },
    "kernelspec": {
      "name": "python3",
      "display_name": "Python 3"
    },
    "language_info": {
      "name": "python"
    }
  },
  "cells": [
    {
      "cell_type": "markdown",
      "metadata": {
        "id": "view-in-github",
        "colab_type": "text"
      },
      "source": [
        "<a href=\"https://colab.research.google.com/github/atharvthakur17/machine-learning/blob/main/LR%7Balgo%7D.ipynb\" target=\"_parent\"><img src=\"https://colab.research.google.com/assets/colab-badge.svg\" alt=\"Open In Colab\"/></a>"
      ]
    },
    {
      "cell_type": "code",
      "execution_count": 9,
      "metadata": {
        "id": "TeeVHq07q5tw"
      },
      "outputs": [],
      "source": [
        "import numpy as np\n"
      ]
    },
    {
      "cell_type": "code",
      "source": [
        "data=np.loadtxt(\"/data.csv\",delimiter=\",\")"
      ],
      "metadata": {
        "id": "mwojQnskrQYJ"
      },
      "execution_count": 12,
      "outputs": []
    },
    {
      "cell_type": "code",
      "source": [
        "x=data[:,0]\n",
        "y=data[:,1]\n"
      ],
      "metadata": {
        "id": "n9Pl3GwMsSNp"
      },
      "execution_count": 39,
      "outputs": []
    },
    {
      "cell_type": "code",
      "source": [
        "from sklearn import model_selection\n",
        "xtrain,xtest,ytrain,ytest=model_selection.train_test_split(x,y,test_size=0.3)"
      ],
      "metadata": {
        "id": "w1BNZ861scw0"
      },
      "execution_count": 43,
      "outputs": []
    },
    {
      "cell_type": "code",
      "source": [
        "def fit(xtrain,ytrain):\n",
        "  num=((xtrain*ytrain).mean()-xtrain.mean()*ytrain.mean())\n",
        "  denom=(xtrain**2).mean()-xtrain.mean()**2\n",
        "  m=num/denom\n",
        "  c=ytrain.mean()-m*xtrain.mean()\n",
        "  return m,c\n",
        "\n",
        "def predict(x,m,c):\n",
        "  return m*x+c\n",
        "\n",
        "def score(ytrue,ypred):\n",
        "  u=((ytrue-ypred)**2).sum()\n",
        "  v=((ytrue-ytrue.mean())**2).sum()\n",
        "  return 1-u/v\n",
        "\n",
        "def cost(x,y,m,c):\n",
        "  return ((y-m*x-c)**2).mean()"
      ],
      "metadata": {
        "id": "s0z5TpWTsdAe"
      },
      "execution_count": 62,
      "outputs": []
    },
    {
      "cell_type": "code",
      "source": [
        "#testdata\n",
        "m,c=fit(xtrain,ytrain)\n",
        "ytestpred=predict(xtest,m,c)\n",
        "testscore=score(ytest,ytestpred)\n",
        "testcost=cost(xtest,ytest,m,c)\n",
        "#traindata\n",
        "ytrainpred=predict(xtrain,m,c)\n",
        "trainscore=score(ytrain,ytrainpred)\n",
        "traincost=cost(xtrain,ytrain,m,c)\n",
        "print(\"test score , train score : \",testscore,\" &\" ,trainscore)\n",
        "print(\"m,c  : \",m,\"&\",c)\n",
        "print(\"cost for testing and training data : \", testcost,\"&\", traincost)"
      ],
      "metadata": {
        "colab": {
          "base_uri": "https://localhost:8080/"
        },
        "id": "Na7EckLsvirH",
        "outputId": "488e69e3-cbea-46a9-8e4d-2f6da2a45ba5"
      },
      "execution_count": 67,
      "outputs": [
        {
          "output_type": "stream",
          "name": "stdout",
          "text": [
            "test score , train score :  0.5573308285373095  & 0.6104580499938396\n",
            "m,c  :  1.3341781830336774 & 6.152053228023036\n",
            "cost for testing and training data :  136.8089299819969 & 101.17855609066827\n"
          ]
        }
      ]
    },
    {
      "cell_type": "code",
      "source": [
        "\n"
      ],
      "metadata": {
        "id": "S59Rki8U02qx"
      },
      "execution_count": null,
      "outputs": []
    }
  ]
}