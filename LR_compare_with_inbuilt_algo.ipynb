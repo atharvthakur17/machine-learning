{
  "nbformat": 4,
  "nbformat_minor": 0,
  "metadata": {
    "colab": {
      "provenance": [],
      "authorship_tag": "ABX9TyNJAl5BAcf8cxs5Ws4mPlNX",
      "include_colab_link": true
    },
    "kernelspec": {
      "name": "python3",
      "display_name": "Python 3"
    },
    "language_info": {
      "name": "python"
    }
  },
  "cells": [
    {
      "cell_type": "markdown",
      "metadata": {
        "id": "view-in-github",
        "colab_type": "text"
      },
      "source": [
        "<a href=\"https://colab.research.google.com/github/atharvthakur17/machine-learning/blob/main/LR_compare_with_inbuilt_algo.ipynb\" target=\"_parent\"><img src=\"https://colab.research.google.com/assets/colab-badge.svg\" alt=\"Open In Colab\"/></a>"
      ]
    },
    {
      "cell_type": "code",
      "execution_count": 126,
      "metadata": {
        "id": "TeeVHq07q5tw"
      },
      "outputs": [],
      "source": [
        "import numpy as np\n"
      ]
    },
    {
      "cell_type": "code",
      "source": [
        "data=np.loadtxt(\"/data.csv\",delimiter=\",\")"
      ],
      "metadata": {
        "id": "mwojQnskrQYJ"
      },
      "execution_count": 127,
      "outputs": []
    },
    {
      "cell_type": "code",
      "source": [
        "x=data[:,0]\n",
        "y=data[:,1]\n"
      ],
      "metadata": {
        "id": "n9Pl3GwMsSNp"
      },
      "execution_count": 128,
      "outputs": []
    },
    {
      "cell_type": "code",
      "source": [
        "from sklearn import model_selection\n",
        "xtrain,xtest,ytrain,ytest=model_selection.train_test_split(x,y,test_size=0.3)\n",
        "xtrain.shape"
      ],
      "metadata": {
        "colab": {
          "base_uri": "https://localhost:8080/"
        },
        "id": "w1BNZ861scw0",
        "outputId": "8bd787d9-dbe8-42e2-d63d-4c0d2618a3fc"
      },
      "execution_count": 129,
      "outputs": [
        {
          "output_type": "execute_result",
          "data": {
            "text/plain": [
              "(70,)"
            ]
          },
          "metadata": {},
          "execution_count": 129
        }
      ]
    },
    {
      "cell_type": "code",
      "source": [
        "def fit(xtrain,ytrain):\n",
        "  num=((xtrain*ytrain).mean()-xtrain.mean()*ytrain.mean())\n",
        "  denom=(xtrain**2).mean()-xtrain.mean()**2\n",
        "  m=num/denom\n",
        "  c=ytrain.mean()-m*xtrain.mean()\n",
        "  return m,c\n",
        "\n",
        "def predict(x,m,c):\n",
        "  return m*x+c\n",
        "\n",
        "def score(ytrue,ypred):\n",
        "  u=((ytrue-ypred)**2).sum()\n",
        "  v=((ytrue-ytrue.mean())**2).sum()\n",
        "  return 1-u/v\n",
        "\n",
        "def cost(x,y,m,c):\n",
        "  return ((y-m*x-c)**2).mean()"
      ],
      "metadata": {
        "id": "s0z5TpWTsdAe"
      },
      "execution_count": 130,
      "outputs": []
    },
    {
      "cell_type": "code",
      "source": [
        "#testdata\n",
        "m,c=fit(xtrain,ytrain)\n",
        "ytestpred=predict(xtest,m,c)\n",
        "testscore=score(ytest,ytestpred)\n",
        "testcost=cost(xtest,ytest,m,c)\n",
        "#traindata\n",
        "ytrainpred=predict(xtrain,m,c)\n",
        "trainscore=score(ytrain,ytrainpred)\n",
        "traincost=cost(xtrain,ytrain,m,c)\n",
        "print(\"test score , train score : \",testscore,\" &\" ,trainscore)\n",
        "print(\"m,c  : \",m,\"&\",c)\n",
        "print(\"cost for testing and training data : \", testcost,\"&\", traincost)"
      ],
      "metadata": {
        "colab": {
          "base_uri": "https://localhost:8080/"
        },
        "id": "Na7EckLsvirH",
        "outputId": "75f77249-1abd-4433-d804-49ffa21d4493"
      },
      "execution_count": 131,
      "outputs": [
        {
          "output_type": "stream",
          "name": "stdout",
          "text": [
            "test score , train score :  0.7099880651900592  & 0.5441769514845274\n",
            "m,c  :  1.2236649460295121 & 12.635655773031466\n",
            "cost for testing and training data :  79.02250746636231 & 125.0062663632096\n"
          ]
        }
      ]
    },
    {
      "cell_type": "code",
      "source": [
        "x=data[:,0].reshape(-1,1)\n",
        "y=data[:,1]\n"
      ],
      "metadata": {
        "id": "la8Qg98L491X"
      },
      "execution_count": 132,
      "outputs": []
    },
    {
      "cell_type": "code",
      "source": [
        "from sklearn import model_selection\n",
        "xtrain,xtest,ytrain,ytest=model_selection.train_test_split(x,y,test_size=0.3)\n",
        "xtrain.shape"
      ],
      "metadata": {
        "colab": {
          "base_uri": "https://localhost:8080/"
        },
        "id": "9PdjV9YR5HYP",
        "outputId": "7ccff8cf-c029-410a-d4ba-2f5c53772534"
      },
      "execution_count": 133,
      "outputs": [
        {
          "output_type": "execute_result",
          "data": {
            "text/plain": [
              "(70, 1)"
            ]
          },
          "metadata": {},
          "execution_count": 133
        }
      ]
    },
    {
      "cell_type": "code",
      "source": [
        "from sklearn.linear_model import LinearRegression\n",
        "alg1=LinearRegression()\n",
        "\n",
        "alg1.fit(xtrain,ytrain)\n",
        "m2=alg1.coef_[0]\n",
        "c2=alg1.intercept_\n",
        "ypred2=alg1.predict(xtest)\n",
        "score2=score(ytest,ypred2)\n",
        "print(score2)"
      ],
      "metadata": {
        "colab": {
          "base_uri": "https://localhost:8080/"
        },
        "id": "S59Rki8U02qx",
        "outputId": "57386203-9304-47d9-b10b-154cf1fc4f9b"
      },
      "execution_count": 144,
      "outputs": [
        {
          "output_type": "stream",
          "name": "stdout",
          "text": [
            "0.583036283446609\n"
          ]
        }
      ]
    }
  ]
}