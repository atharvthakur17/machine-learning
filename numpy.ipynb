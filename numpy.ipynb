{
  "nbformat": 4,
  "nbformat_minor": 0,
  "metadata": {
    "colab": {
      "provenance": [],
      "authorship_tag": "ABX9TyNMAYWPGW+FGS/Mro7MGilO",
      "include_colab_link": true
    },
    "kernelspec": {
      "name": "python3",
      "display_name": "Python 3"
    },
    "language_info": {
      "name": "python"
    }
  },
  "cells": [
    {
      "cell_type": "markdown",
      "metadata": {
        "id": "view-in-github",
        "colab_type": "text"
      },
      "source": [
        "<a href=\"https://colab.research.google.com/github/atharvthakur17/machine-learning/blob/main/numpy.ipynb\" target=\"_parent\"><img src=\"https://colab.research.google.com/assets/colab-badge.svg\" alt=\"Open In Colab\"/></a>"
      ]
    },
    {
      "cell_type": "code",
      "execution_count": null,
      "metadata": {
        "colab": {
          "base_uri": "https://localhost:8080/"
        },
        "id": "dWyYbJRMqp3w",
        "outputId": "fe76f7dc-9b03-4f97-f56f-daee706e1195"
      },
      "outputs": [
        {
          "output_type": "stream",
          "name": "stdout",
          "text": [
            "[[1 2]\n",
            " [3 4]\n",
            " [5 6]\n",
            " [7 8]]\n"
          ]
        },
        {
          "output_type": "execute_result",
          "data": {
            "text/plain": [
              "array([[1, 2, 3, 4],\n",
              "       [5, 6, 7, 8]])"
            ]
          },
          "metadata": {},
          "execution_count": 9
        }
      ],
      "source": [
        "import numpy as np\n",
        "\n",
        "a = np.array([[1,2], [3,4],[5, 6], [7,8]])\n",
        "print(a)\n",
        "a.reshape((2,4))"
      ]
    },
    {
      "cell_type": "code",
      "source": [
        "a=np.array([1,3,4,6,8,6])\n",
        "print(a)\n",
        "b=np.arange(6)+7\n",
        "print(b)\n",
        "a.dot(b)\n",
        "np.dot(a,b)\n",
        "\n"
      ],
      "metadata": {
        "colab": {
          "base_uri": "https://localhost:8080/"
        },
        "id": "cYMAQLsjw-Gy",
        "outputId": "17a3e6dd-6f85-4625-8a83-77f0940c5074"
      },
      "execution_count": null,
      "outputs": [
        {
          "output_type": "stream",
          "name": "stdout",
          "text": [
            "[1 3 4 6 8 6]\n",
            "[ 7  8  9 10 11 12]\n"
          ]
        },
        {
          "output_type": "execute_result",
          "data": {
            "text/plain": [
              "287"
            ]
          },
          "metadata": {},
          "execution_count": 28
        }
      ]
    },
    {
      "cell_type": "code",
      "source": [
        "a=np.zeros((3,3))\n",
        "a[:,2]=2\n",
        "print(a)\n",
        "b=np.eye(3)\n",
        "print(b)\n"
      ],
      "metadata": {
        "colab": {
          "base_uri": "https://localhost:8080/"
        },
        "id": "oMApxOuJyxnH",
        "outputId": "a288170f-749c-4483-979b-8f62a73c1178"
      },
      "execution_count": null,
      "outputs": [
        {
          "output_type": "stream",
          "name": "stdout",
          "text": [
            "[[0. 0. 2.]\n",
            " [0. 0. 2.]\n",
            " [0. 0. 2.]]\n",
            "[[1. 0. 0.]\n",
            " [0. 1. 0.]\n",
            " [0. 0. 1.]]\n"
          ]
        }
      ]
    },
    {
      "cell_type": "code",
      "source": [
        "a=np.array([1,2,3])\n",
        "b=np.array([5,6,7])\n",
        "print(a)\n",
        "print(b)\n",
        "import math as m\n",
        "d=m.sqrt(sum((a-b)**2))                 #dist sq pronlem\n",
        "print(d)"
      ],
      "metadata": {
        "colab": {
          "base_uri": "https://localhost:8080/"
        },
        "id": "l8e8pV6f0VXK",
        "outputId": "b6361a34-884b-4441-f58f-55f1e0644edf"
      },
      "execution_count": null,
      "outputs": [
        {
          "output_type": "stream",
          "name": "stdout",
          "text": [
            "[1 2 3]\n",
            "[5 6 7]\n",
            "6.928203230275509\n"
          ]
        }
      ]
    },
    {
      "cell_type": "code",
      "source": [
        "#how far point from mean \n",
        "a=np.array([1,3,5,6])\n",
        "f=((a-a.mean())**2).sum()\n",
        "print(f)"
      ],
      "metadata": {
        "colab": {
          "base_uri": "https://localhost:8080/"
        },
        "id": "bag61Axm0g7t",
        "outputId": "438350bf-34fa-4062-fc83-1b7637fec448"
      },
      "execution_count": null,
      "outputs": [
        {
          "output_type": "stream",
          "name": "stdout",
          "text": [
            "14.75\n"
          ]
        }
      ]
    },
    {
      "cell_type": "code",
      "source": [
        "#random matrix\n",
        "a=np.random.random((2,4))\n",
        "print(a)\n",
        "a=np.array([1,3,5,6])\n",
        "b=np.array([3,6,8,4])\n",
        "#stacking\n",
        "c=np.stack((a,b),axis=0)\n",
        "print(c)\n",
        "print(c.shape)\n",
        "\n",
        "c=np.stack((a,b),axis=1)\n",
        "print(c)\n",
        "c.shape"
      ],
      "metadata": {
        "id": "8OPBvTmR1sHG",
        "colab": {
          "base_uri": "https://localhost:8080/"
        },
        "outputId": "5a4c49b5-1492-4012-9d3c-cc6f1b340347"
      },
      "execution_count": 63,
      "outputs": [
        {
          "output_type": "stream",
          "name": "stdout",
          "text": [
            "[[0.87091221 0.01839073 0.18277087 0.09009996]\n",
            " [0.57747205 0.70709551 0.4536179  0.80633177]]\n",
            "[[1 3 5 6]\n",
            " [3 6 8 4]]\n",
            "(2, 4)\n",
            "[[1 3]\n",
            " [3 6]\n",
            " [5 8]\n",
            " [6 4]]\n"
          ]
        },
        {
          "output_type": "execute_result",
          "data": {
            "text/plain": [
              "(4, 2)"
            ]
          },
          "metadata": {},
          "execution_count": 63
        }
      ]
    },
    {
      "cell_type": "code",
      "source": [
        "a=np.random.rand(2,3)\n",
        "b=np.random.randn(2,3)\n",
        "c=np.random.randint(2,8,4)   #no. of int value from given range\n",
        "print(a)\n",
        "print(b)\n",
        "print(c)\n"
      ],
      "metadata": {
        "colab": {
          "base_uri": "https://localhost:8080/"
        },
        "id": "odqaarcs6mTg",
        "outputId": "7d650e1d-ad91-4593-a158-525ba5132ca4"
      },
      "execution_count": 67,
      "outputs": [
        {
          "output_type": "stream",
          "name": "stdout",
          "text": [
            "[[0.77872196 0.73145222 0.01138501]\n",
            " [0.02500541 0.16364603 0.23837837]]\n",
            "[[ 2.62822534 -1.29327135 -1.73887282]\n",
            " [-0.99474701 -0.82118769  0.7724892 ]]\n",
            "[7 3 5 2]\n"
          ]
        }
      ]
    }
  ]
}